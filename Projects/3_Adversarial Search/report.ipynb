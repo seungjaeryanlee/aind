{
 "cells": [
  {
   "cell_type": "markdown",
   "metadata": {},
   "source": [
    "# Project 3 Report"
   ]
  },
  {
   "cell_type": "markdown",
   "metadata": {},
   "source": [
    "## Summary of Algorithm"
   ]
  },
  {
   "cell_type": "markdown",
   "metadata": {},
   "source": [
    "My `CustomPlayer` uses the negamax algorithm with iterative deepening (ID), alpha-beta pruning ($\\alpha\\beta$). I used the basic evaluation function `liberties_own - liberties_opp` with a custom Square Table that assign score to each board position. The actual square table is written below:"
   ]
  },
  {
   "cell_type": "code",
   "execution_count": null,
   "metadata": {},
   "outputs": [],
   "source": [
    "SENTINEL = float(\"-inf\")\n",
    "SQ_SCORE = [\n",
    "    -3, -1, -1, -1, -1, -1, -1, -1, -1, -1, -3, SENTINEL, SENTINEL,\n",
    "    -1,  0,  0,  0,  0,  0,  0,  0,  0,  0, -1, SENTINEL, SENTINEL,\n",
    "    -1,  0,  0, .5, .5, .5, .5, .5,  0,  0, -1, SENTINEL, SENTINEL,\n",
    "    -1,  0,  0, .5,  1,  1,  1, .5,  0,  0, -1, SENTINEL, SENTINEL,\n",
    "    -1,  0,  0, .5,  1,  2,  1, .5,  0,  0, -1, SENTINEL, SENTINEL,\n",
    "    -1,  0,  0, .5,  1,  1,  1, .5,  0,  0, -1, SENTINEL, SENTINEL,\n",
    "    -1,  0,  0, .5, .5, .5, .5, .5,  0,  0, -1, SENTINEL, SENTINEL,\n",
    "    -1,  0,  0,  0,  0,  0,  0,  0,  0,  0, -1, SENTINEL, SENTINEL,\n",
    "    -3, -1, -1, -1, -1, -1, -1, -1, -1, -1, -3, SENTINEL, SENTINEL,\n",
    "]"
   ]
  },
  {
   "cell_type": "markdown",
   "metadata": {},
   "source": [
    "## Performance against Sample Players"
   ]
  },
  {
   "cell_type": "markdown",
   "metadata": {},
   "source": [
    "|                                   | Random | Greedy | Minimax (3) |\n",
    "|-----------------------------------|--------|--------|-------------|\n",
    "| Minimax (3)                       |  94.0% |  70.8% |       49.5% |\n",
    "| Minimax + ID                      |  95.8% |  84.5% |       74.0% |\n",
    "| Minimax + ID + $\\alpha\\beta$      |  97.2% |  87.2% |       73.5% |\n",
    "| Minimax + ID + $\\alpha\\beta$ + SQ |  96.8% |  88.8% |       80.0% |\n"
   ]
  },
  {
   "cell_type": "markdown",
   "metadata": {},
   "source": [
    "*Each number in this chart is a result of 100 rounds (400 games) on 4 processes with fair matches flag enabled.*"
   ]
  },
  {
   "cell_type": "markdown",
   "metadata": {},
   "source": [
    "## Questions"
   ]
  },
  {
   "cell_type": "markdown",
   "metadata": {},
   "source": [
    "**Choose a baseline search algorithm for comparison (for example, alpha-beta search with iterative deepening, etc.). How much performance difference does your agent show compared to the baseline?\n",
    "Why do you think the technique you chose was more (or less) effective than the baseline?**"
   ]
  },
  {
   "cell_type": "markdown",
   "metadata": {},
   "source": [
    "For the baseline search algorithm I used minimax algorithm with iterative deepening and alpha-beta pruning. Adding Principal Variation search..."
   ]
  },
  {
   "cell_type": "markdown",
   "metadata": {},
   "source": [
    "## Other"
   ]
  },
  {
   "cell_type": "markdown",
   "metadata": {},
   "source": [
    "### Attempts"
   ]
  },
  {
   "cell_type": "markdown",
   "metadata": {},
   "source": [
    "There are other ideas I have in improving the model that led to subpar results. Here is a chart with a full list of attempts."
   ]
  },
  {
   "cell_type": "markdown",
   "metadata": {},
   "source": [
    "|                                     | Random | Greedy | Minimax (3) |\n",
    "|-------------------------------------|--------|--------|-------------|\n",
    "| Minimax (3)                         |  94.0% |  70.8% |       49.5% |\n",
    "| Minimax (3) + 8L                    |  93.5% |  48.8% |       55.2% |\n",
    "| Minimax (3) + 2L                    |  91.5% |  62.2% |       51.5% |\n",
    "| Minimax + ID                        |  95.8% |  84.5% |       74.0% |\n",
    "| Minimax + ID + $\\alpha\\beta$        |  97.2% |  87.2% |       73.5% |\n",
    "| Minimax + ID + $\\alpha\\beta$ + CH   |  95.2% |  89.8% |       76.2% |\n",
    "| Minimax + ID + $\\alpha\\beta$ + SQ   |  96.8% |  88.8% |       80.0% |\n",
    "| Minimax + ID + $\\alpha\\beta$ + SQ10 |  97.0% |  89.8% |       76.8% |\n",
    "| Minimax + ID + $\\alpha\\beta$ + SQ20 |  96.0% |  89.8% |       79.2% |\n",
    "| Minimax + ID + $\\alpha\\beta$ + SQ40 |  96.8% |  91.0% |       79.5% |"
   ]
  },
  {
   "cell_type": "markdown",
   "metadata": {},
   "source": [
    "#### Custom Heuristic (CH)\n",
    "This is a variant the basic `liberties_own - liberties_opp`. For the first 20 plies (10 moves), it uses an aggressive heuristic `liberties_own - 2 * liberties_opp`, and for the rest of the game, it uses a defensive heuristic `2 * liberties_own - liberties_opp`.\n",
    "\n",
    "#### Square Table (SQ)\n",
    "Like the PCSQ table in chess, I assigned points to each square of the 9x11 board. The square table rewards being in center and penalizes edges and corners.\n",
    "\n",
    "#### Square Table Cutoff 20 (SQ10)\n",
    "Same as above, but I disabled the square table after 10 ply to make the piece focus on survival rather than positioning.\n",
    "\n",
    "#### Square Table Cutoff 20 (SQ20)\n",
    "Same as above, but I disabled the square table after 20 ply.\n",
    "\n",
    "#### Square Table Cutoff 40 (SQ40)\n",
    "Same as above, but I disabled the square table after 40 ply.\n",
    "\n",
    "#### 8 Liberties (8L)\n",
    "For the first move, I choose a position with 8 liberties.\n",
    "\n",
    "#### 2 Liberties (2L)\n",
    "For the first move, I choose a position with 2 liberties."
   ]
  },
  {
   "cell_type": "markdown",
   "metadata": {},
   "source": [
    "### Untested Ideas"
   ]
  },
  {
   "cell_type": "markdown",
   "metadata": {},
   "source": [
    " * Evaluation function dependent on color (ex. White - Defensive, Black - Aggressive)\n",
    " * Opening Book\n",
    " * Principal Variation Search (PVS) / Negascout\n",
    " * Monte Carlo Tree Search (MCTS)"
   ]
  }
 ],
 "metadata": {
  "kernelspec": {
   "display_name": "Python [conda env:aind]",
   "language": "python",
   "name": "conda-env-aind-py"
  },
  "language_info": {
   "codemirror_mode": {
    "name": "ipython",
    "version": 3
   },
   "file_extension": ".py",
   "mimetype": "text/x-python",
   "name": "python",
   "nbconvert_exporter": "python",
   "pygments_lexer": "ipython3",
   "version": "3.5.4"
  }
 },
 "nbformat": 4,
 "nbformat_minor": 2
}

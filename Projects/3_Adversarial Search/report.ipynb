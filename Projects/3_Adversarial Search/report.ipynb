{
 "cells": [
  {
   "cell_type": "markdown",
   "metadata": {},
   "source": [
    "# Project 3 Report"
   ]
  },
  {
   "cell_type": "markdown",
   "metadata": {},
   "source": [
    "## Summary of Algorithm"
   ]
  },
  {
   "cell_type": "markdown",
   "metadata": {},
   "source": [
    "My `CustomPlayer` uses the negamax algorithm with iterative deepening (ID), alpha-beta pruning ($\\alpha\\beta$), and principal variation search (PVS). I used the basic heuristic `liberties_own - liberties_opp`."
   ]
  },
  {
   "cell_type": "markdown",
   "metadata": {},
   "source": [
    "## Performance against Sample Players"
   ]
  },
  {
   "cell_type": "markdown",
   "metadata": {},
   "source": [
    "|                                    | Random | Greedy | Minimax (3) |\n",
    "|------------------------------------|--------|--------|-------------|\n",
    "| Minimax (3)                        |  94.0% |  70.8% |       49.5% |\n",
    "| Minimax + ID                       |  95.8% |  84.5% |       74.0% |\n",
    "| Minimax + ID + $\\alpha\\beta$       |  97.2% |  87.2% |       73.5% |\n",
    "| Negamax + ID + $\\alpha\\beta$ + PVS |        |        |             |"
   ]
  },
  {
   "cell_type": "markdown",
   "metadata": {},
   "source": [
    "*Each number in this chart is a result of 100 rounds (400 games) on 4 processes with fair matches flag enabled.*"
   ]
  },
  {
   "cell_type": "markdown",
   "metadata": {},
   "source": [
    "## Questions"
   ]
  },
  {
   "cell_type": "markdown",
   "metadata": {},
   "source": [
    "**Choose a baseline search algorithm for comparison (for example, alpha-beta search with iterative deepening, etc.). How much performance difference does your agent show compared to the baseline?\n",
    "Why do you think the technique you chose was more (or less) effective than the baseline?**"
   ]
  },
  {
   "cell_type": "markdown",
   "metadata": {},
   "source": [
    "For the baseline search algorithm I used minimax algorithm with iterative deepening and alpha-beta pruning. Adding Principal Variation search..."
   ]
  },
  {
   "cell_type": "markdown",
   "metadata": {},
   "source": [
    "## Other"
   ]
  },
  {
   "cell_type": "markdown",
   "metadata": {},
   "source": [
    "### Optimal Strategy"
   ]
  },
  {
   "cell_type": "markdown",
   "metadata": {},
   "source": [
    "I believe in this game, the second player can always win by mirroring each action taken by the first player. Since the board is 8x8, there is no place that can break the symmetry."
   ]
  },
  {
   "cell_type": "markdown",
   "metadata": {},
   "source": [
    "### Failed Tries"
   ]
  },
  {
   "cell_type": "markdown",
   "metadata": {},
   "source": [
    "There are other ideas I have in improving the model that failed. Here is a chart with a full list of tries."
   ]
  },
  {
   "cell_type": "markdown",
   "metadata": {},
   "source": [
    "|                                    | Random | Greedy | Minimax (3) |\n",
    "|------------------------------------|--------|--------|-------------|\n",
    "| Minimax (3)                        |  94.0% |  70.8% |       49.5% |\n",
    "| Minimax (3) + 8L                   |  93.5% |  48.8% |       55.2% |\n",
    "| Minimax (3) + 2L                   |  91.5% |  62.2% |       51.5% |\n",
    "| Minimax + ID                       |  95.8% |  84.5% |       74.0% |\n",
    "| Minimax + ID + $\\alpha\\beta$       |  97.2% |  87.2% |       73.5% |\n",
    "| Minimax + ID + $\\alpha\\beta$ + CH  |  95.2% |  89.8% |       76.2% |\n",
    "| Minimax + ID + $\\alpha\\beta$ + PVS |        |        |             |"
   ]
  },
  {
   "cell_type": "markdown",
   "metadata": {},
   "source": [
    "#### Custom Heuristic (CH)\n",
    "This is a variant the basic `liberties_own - liberties_opp`. For the first 20 plies (10 moves), it uses an aggressive heuristic `liberties_own - 2 * liberties_opp`, and for the rest of the game, it uses a defensive heuristic `2 * liberties_own - liberties_opp`\n",
    "#### 8 Liberties (8L)\n",
    "For the first move, I choose a position with 8 liberties.\n",
    "#### 2 Liberties (2L)\n",
    "For the first move, I choose a position with 2 liberties."
   ]
  }
 ],
 "metadata": {
  "kernelspec": {
   "display_name": "Python [conda env:aind]",
   "language": "python",
   "name": "conda-env-aind-py"
  },
  "language_info": {
   "codemirror_mode": {
    "name": "ipython",
    "version": 3
   },
   "file_extension": ".py",
   "mimetype": "text/x-python",
   "name": "python",
   "nbconvert_exporter": "python",
   "pygments_lexer": "ipython3",
   "version": "3.5.4"
  }
 },
 "nbformat": 4,
 "nbformat_minor": 2
}
